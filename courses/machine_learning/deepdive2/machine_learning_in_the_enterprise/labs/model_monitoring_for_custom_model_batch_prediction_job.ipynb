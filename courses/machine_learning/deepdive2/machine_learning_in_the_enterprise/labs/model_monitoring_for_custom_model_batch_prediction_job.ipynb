{
  "cells": [
    {
      "cell_type": "code",
      "execution_count": null,
      "metadata": {
        "id": "Y5yTxMNOKnOC"
      },
      "outputs": [],
      "source": [
        "# Copyright 2024 Google LLC\n",
        "#\n",
        "# Licensed under the Apache License, Version 2.0 (the \"License\");\n",
        "# you may not use this file except in compliance with the License.\n",
        "# You may obtain a copy of the License at\n",
        "#\n",
        "#     https://www.apache.org/licenses/LICENSE-2.0\n",
        "#\n",
        "# Unless required by applicable law or agreed to in writing, software\n",
        "# distributed under the License is distributed on an \"AS IS\" BASIS,\n",
        "# WITHOUT WARRANTIES OR CONDITIONS OF ANY KIND, either express or implied.\n",
        "# See the License for the specific language governing permissions and\n",
        "# limitations under the License."
      ]
    },
    {
      "cell_type": "markdown",
      "metadata": {
        "id": "ndfGn8c4bI_G"
      },
      "source": [
        "# Model Monitoring for Vertex AI Custom Model Batch Prediction Job\n",
        "\n",
        "<table align=\"left\">\n",
        "  <td style=\"text-align: center\">\n",
        "    <a href=\"https://colab.research.google.com/github/GoogleCloudPlatform/vertex-ai-samples/blob/main/notebooks/official/model_monitoring_v2/model_monitoring_for_custom_model_batch_prediction_job.ipynb\">\n",
        "      <img src=\"https://cloud.google.com/ml-engine/images/colab-logo-32px.png\" alt=\"Google Colaboratory logo\"><br> Open in Colab\n",
        "    </a>\n",
        "  </td>\n",
        "  <td style=\"text-align: center\">\n",
        "    <a href=\"https://console.cloud.google.com/vertex-ai/colab/import/https:%2F%2Fraw.githubusercontent.com%2FGoogleCloudPlatform%2Fvertex-ai-samples%2Fmain%2Fnotebooks%2Fofficial%2model_monitoring_v2%2model_monitoring_for_custom_model_batch_prediction_job.ipynb\">\n",
        "      <img width=\"32px\" src=\"https://lh3.googleusercontent.com/JmcxdQi-qOpctIvWKgPtrzZdJJK-J3sWE1RsfjZNwshCFgE_9fULcNpuXYTilIR2hjwN\" alt=\"Google Cloud Colab Enterprise logo\"><br> Open in Colab Enterprise\n",
        "    </a>\n",
        "  </td>    \n",
        "  <td style=\"text-align: center\">\n",
        "    <a href=\"https://console.cloud.google.com/vertex-ai/workbench/deploy-notebook?download_url=https://raw.githubusercontent.com/GoogleCloudPlatform/vertex-ai-samples/blob/main/notebooks/official/model_monitoring_v2/model_monitoring_for_custom_model_batch_prediction_job.ipynb\">\n",
        "      <img src=\"https://lh3.googleusercontent.com/UiNooY4LUgW_oTvpsNhPpQzsstV5W8F7rYgxgGBD85cWJoLmrOzhVs_ksK_vgx40SHs7jCqkTkCk=e14-rj-sc0xffffff-h130-w32\" alt=\"Vertex AI logo\"><br> Open in Workbench\n",
        "    </a>\n",
        "  </td>\n",
        "  <td style=\"text-align: center\">\n",
        "    <a href=\"https://github.com/GoogleCloudPlatform/vertex-ai-samples/blob/main/notebooks/official/model_monitoring_v2/model_monitoring_for_custom_model_batch_prediction_job.ipynb\">\n",
        "      <img src=\"https://cloud.google.com/ml-engine/images/github-logo-32px.png\" alt=\"GitHub logo\"><br> View on GitHub\n",
        "    </a>\n",
        "  </td>\n",
        "</table>\n"
      ]
    },
    {
      "cell_type": "markdown",
      "metadata": {
        "id": "R5Hp34AVK7ba"
      },
      "source": [
        "## Overview\n",
        "\n",
        "This tutorial demonstrates how to use the Vertex AI SDK for Python to set up Vertex AI Model Monitoring V2 for your model."
      ]
    },
    {
      "cell_type": "markdown",
      "metadata": {
        "id": "DyXl559OtyK_"
      },
      "source": [
        "### Objective\n",
        "\n",
        "In this tutorial, you'll complete the following steps:\n",
        "\n",
        "- Upload a custom model to Vertex AI Model Registry.\n",
        "- Create a model monitor.\n",
        "- Create Vertex AI batch prediction job.\n",
        "- Run an on-demand model monitoring job to analyze data drift between the batch prediction job results and the training dataset.\n",
        "- Create another Vertex AI batch prediction job.\n",
        "- Run an on-demand model monitoring job to analyze data drift between the batch prediction job results and the previous batch prediction job.\n",
        "- Run an on-demand model monitoring job to analyze the feature attribution drift between the batch prediction job results and a baseline dataset in Google Cloud Storage.\n",
        "\n",
        "\n",
        "### Costs\n",
        "\n",
        "Vertex AI Model Monitoring v2 is free during the public preview period, but you will still be billed for the following Google Cloud services:\n",
        "\n",
        "* [BigQuery](https://cloud.google.com/bigquery/pricing)\n",
        "* [Cloud Storage](https://cloud.google.com/storage/pricing)\n",
        "* [Vertex AI Online Prediction](https://cloud.google.com/vertex-ai/pricing#prediction-prices)\n",
        "* [Vertex AI Batch Explanation Job](https://cloud.google.com/vertex-ai/pricing#prediction-prices) (if you run the feature attribution drift example)."
      ]
    },
    {
      "cell_type": "markdown",
      "metadata": {
        "id": "oYmaoz9MNLHd"
      },
      "source": [
        "## Getting Started"
      ]
    },
    {
      "cell_type": "markdown",
      "metadata": {
        "id": "NvW5zNXmNMwm"
      },
      "source": [
        "### Install Vertex AI SDK and other required packages"
      ]
    },
    {
      "cell_type": "code",
      "execution_count": null,
      "metadata": {
        "id": "5FakhYktNO7Y",
        "colab": {
          "base_uri": "https://localhost:8080/"
        },
        "outputId": "1d2e53b8-eb15-4012-b15f-d2dc33b08d89"
      },
      "outputs": [
        {
          "output_type": "stream",
          "name": "stdout",
          "text": [
            "\u001b[2K     \u001b[90m━━━━━━━━━━━━━━━━━━━━━━━━━━━━━━━━━━━━━━━━\u001b[0m \u001b[32m89.9/89.9 kB\u001b[0m \u001b[31m2.7 MB/s\u001b[0m eta \u001b[36m0:00:00\u001b[0m\n",
            "\u001b[2K     \u001b[90m━━━━━━━━━━━━━━━━━━━━━━━━━━━━━━━━━━━━━━━━\u001b[0m \u001b[32m99.9/99.9 kB\u001b[0m \u001b[31m6.3 MB/s\u001b[0m eta \u001b[36m0:00:00\u001b[0m\n",
            "\u001b[?25h  Preparing metadata (setup.py) ... \u001b[?25l\u001b[?25hdone\n",
            "\u001b[2K     \u001b[90m━━━━━━━━━━━━━━━━━━━━━━━━━━━━━━━━━━━━━━━━\u001b[0m \u001b[32m89.7/89.7 kB\u001b[0m \u001b[31m10.3 MB/s\u001b[0m eta \u001b[36m0:00:00\u001b[0m\n",
            "\u001b[?25h  Preparing metadata (setup.py) ... \u001b[?25l\u001b[?25hdone\n",
            "\u001b[2K     \u001b[90m━━━━━━━━━━━━━━━━━━━━━━━━━━━━━━━━━━━━━━━━\u001b[0m \u001b[32m152.0/152.0 kB\u001b[0m \u001b[31m16.6 MB/s\u001b[0m eta \u001b[36m0:00:00\u001b[0m\n",
            "\u001b[?25h  Preparing metadata (setup.py) ... \u001b[?25l\u001b[?25hdone\n",
            "\u001b[2K     \u001b[90m━━━━━━━━━━━━━━━━━━━━━━━━━━━━━━━━━━━━━━━━\u001b[0m \u001b[32m43.5/43.5 kB\u001b[0m \u001b[31m4.5 MB/s\u001b[0m eta \u001b[36m0:00:00\u001b[0m\n",
            "\u001b[?25h  Preparing metadata (setup.py) ... \u001b[?25l\u001b[?25hdone\n",
            "\u001b[2K     \u001b[90m━━━━━━━━━━━━━━━━━━━━━━━━━━━━━━━━━━━━━━━━\u001b[0m \u001b[32m173.5/173.5 kB\u001b[0m \u001b[31m19.0 MB/s\u001b[0m eta \u001b[36m0:00:00\u001b[0m\n",
            "\u001b[?25h  Preparing metadata (setup.py) ... \u001b[?25l\u001b[?25hdone\n",
            "  Preparing metadata (setup.py) ... \u001b[?25l\u001b[?25hdone\n",
            "\u001b[2K   \u001b[90m━━━━━━━━━━━━━━━━━━━━━━━━━━━━━━━━━━━━━━━━\u001b[0m \u001b[32m240.1/240.1 kB\u001b[0m \u001b[31m23.8 MB/s\u001b[0m eta \u001b[36m0:00:00\u001b[0m\n",
            "\u001b[2K   \u001b[90m━━━━━━━━━━━━━━━━━━━━━━━━━━━━━━━━━━━━━━━━\u001b[0m \u001b[32m12.1/12.1 MB\u001b[0m \u001b[31m80.0 MB/s\u001b[0m eta \u001b[36m0:00:00\u001b[0m\n",
            "\u001b[2K   \u001b[90m━━━━━━━━━━━━━━━━━━━━━━━━━━━━━━━━━━━━━━━━\u001b[0m \u001b[32m35.9/35.9 MB\u001b[0m \u001b[31m53.1 MB/s\u001b[0m eta \u001b[36m0:00:00\u001b[0m\n",
            "\u001b[2K   \u001b[90m━━━━━━━━━━━━━━━━━━━━━━━━━━━━━━━━━━━━━━━━\u001b[0m \u001b[32m6.9/6.9 MB\u001b[0m \u001b[31m92.9 MB/s\u001b[0m eta \u001b[36m0:00:00\u001b[0m\n",
            "\u001b[2K   \u001b[90m━━━━━━━━━━━━━━━━━━━━━━━━━━━━━━━━━━━━━━━━\u001b[0m \u001b[32m15.8/15.8 MB\u001b[0m \u001b[31m78.6 MB/s\u001b[0m eta \u001b[36m0:00:00\u001b[0m\n",
            "\u001b[2K   \u001b[90m━━━━━━━━━━━━━━━━━━━━━━━━━━━━━━━━━━━━━━━━\u001b[0m \u001b[32m590.6/590.6 MB\u001b[0m \u001b[31m2.9 MB/s\u001b[0m eta \u001b[36m0:00:00\u001b[0m\n",
            "\u001b[2K   \u001b[90m━━━━━━━━━━━━━━━━━━━━━━━━━━━━━━━━━━━━━━━━\u001b[0m \u001b[32m1.1/1.1 MB\u001b[0m \u001b[31m51.2 MB/s\u001b[0m eta \u001b[36m0:00:00\u001b[0m\n",
            "\u001b[2K   \u001b[90m━━━━━━━━━━━━━━━━━━━━━━━━━━━━━━━━━━━━━━━━\u001b[0m \u001b[32m22.5/22.5 MB\u001b[0m \u001b[31m72.6 MB/s\u001b[0m eta \u001b[36m0:00:00\u001b[0m\n",
            "\u001b[2K   \u001b[90m━━━━━━━━━━━━━━━━━━━━━━━━━━━━━━━━━━━━━━━━\u001b[0m \u001b[32m19.0/19.0 MB\u001b[0m \u001b[31m74.9 MB/s\u001b[0m eta \u001b[36m0:00:00\u001b[0m\n",
            "\u001b[2K   \u001b[90m━━━━━━━━━━━━━━━━━━━━━━━━━━━━━━━━━━━━━━━━\u001b[0m \u001b[32m3.1/3.1 MB\u001b[0m \u001b[31m90.2 MB/s\u001b[0m eta \u001b[36m0:00:00\u001b[0m\n",
            "\u001b[2K   \u001b[90m━━━━━━━━━━━━━━━━━━━━━━━━━━━━━━━━━━━━━━━━\u001b[0m \u001b[32m62.1/62.1 kB\u001b[0m \u001b[31m7.4 MB/s\u001b[0m eta \u001b[36m0:00:00\u001b[0m\n",
            "\u001b[2K   \u001b[90m━━━━━━━━━━━━━━━━━━━━━━━━━━━━━━━━━━━━━━━━\u001b[0m \u001b[32m204.2/204.2 kB\u001b[0m \u001b[31m21.9 MB/s\u001b[0m eta \u001b[36m0:00:00\u001b[0m\n",
            "\u001b[2K   \u001b[90m━━━━━━━━━━━━━━━━━━━━━━━━━━━━━━━━━━━━━━━━\u001b[0m \u001b[32m304.6/304.6 kB\u001b[0m \u001b[31m31.7 MB/s\u001b[0m eta \u001b[36m0:00:00\u001b[0m\n",
            "\u001b[2K   \u001b[90m━━━━━━━━━━━━━━━━━━━━━━━━━━━━━━━━━━━━━━━━\u001b[0m \u001b[32m206.5/206.5 kB\u001b[0m \u001b[31m24.6 MB/s\u001b[0m eta \u001b[36m0:00:00\u001b[0m\n",
            "\u001b[2K   \u001b[90m━━━━━━━━━━━━━━━━━━━━━━━━━━━━━━━━━━━━━━━━\u001b[0m \u001b[32m432.6/432.6 kB\u001b[0m \u001b[31m37.8 MB/s\u001b[0m eta \u001b[36m0:00:00\u001b[0m\n",
            "\u001b[2K   \u001b[90m━━━━━━━━━━━━━━━━━━━━━━━━━━━━━━━━━━━━━━━━\u001b[0m \u001b[32m269.8/269.8 kB\u001b[0m \u001b[31m28.5 MB/s\u001b[0m eta \u001b[36m0:00:00\u001b[0m\n",
            "\u001b[2K   \u001b[90m━━━━━━━━━━━━━━━━━━━━━━━━━━━━━━━━━━━━━━━━\u001b[0m \u001b[32m514.6/514.6 kB\u001b[0m \u001b[31m42.0 MB/s\u001b[0m eta \u001b[36m0:00:00\u001b[0m\n",
            "\u001b[2K   \u001b[90m━━━━━━━━━━━━━━━━━━━━━━━━━━━━━━━━━━━━━━━━\u001b[0m \u001b[32m5.7/5.7 MB\u001b[0m \u001b[31m88.3 MB/s\u001b[0m eta \u001b[36m0:00:00\u001b[0m\n",
            "\u001b[2K   \u001b[90m━━━━━━━━━━━━━━━━━━━━━━━━━━━━━━━━━━━━━━━━\u001b[0m \u001b[32m1.6/1.6 MB\u001b[0m \u001b[31m72.3 MB/s\u001b[0m eta \u001b[36m0:00:00\u001b[0m\n",
            "\u001b[2K   \u001b[90m━━━━━━━━━━━━━━━━━━━━━━━━━━━━━━━━━━━━━━━━\u001b[0m \u001b[32m46.3/46.3 kB\u001b[0m \u001b[31m4.9 MB/s\u001b[0m eta \u001b[36m0:00:00\u001b[0m\n",
            "\u001b[2K   \u001b[90m━━━━━━━━━━━━━━━━━━━━━━━━━━━━━━━━━━━━━━━━\u001b[0m \u001b[32m2.2/2.2 MB\u001b[0m \u001b[31m75.6 MB/s\u001b[0m eta \u001b[36m0:00:00\u001b[0m\n",
            "\u001b[2K   \u001b[90m━━━━━━━━━━━━━━━━━━━━━━━━━━━━━━━━━━━━━━━━\u001b[0m \u001b[32m1.4/1.4 MB\u001b[0m \u001b[31m63.3 MB/s\u001b[0m eta \u001b[36m0:00:00\u001b[0m\n",
            "\u001b[2K   \u001b[90m━━━━━━━━━━━━━━━━━━━━━━━━━━━━━━━━━━━━━━━━\u001b[0m \u001b[32m261.5/261.5 kB\u001b[0m \u001b[31m26.6 MB/s\u001b[0m eta \u001b[36m0:00:00\u001b[0m\n",
            "\u001b[2K   \u001b[90m━━━━━━━━━━━━━━━━━━━━━━━━━━━━━━━━━━━━━━━━\u001b[0m \u001b[32m5.5/5.5 MB\u001b[0m \u001b[31m89.3 MB/s\u001b[0m eta \u001b[36m0:00:00\u001b[0m\n",
            "\u001b[2K   \u001b[90m━━━━━━━━━━━━━━━━━━━━━━━━━━━━━━━━━━━━━━━━\u001b[0m \u001b[32m5.4/5.4 MB\u001b[0m \u001b[31m92.9 MB/s\u001b[0m eta \u001b[36m0:00:00\u001b[0m\n",
            "\u001b[2K   \u001b[90m━━━━━━━━━━━━━━━━━━━━━━━━━━━━━━━━━━━━━━━━\u001b[0m \u001b[32m313.6/313.6 kB\u001b[0m \u001b[31m30.6 MB/s\u001b[0m eta \u001b[36m0:00:00\u001b[0m\n",
            "\u001b[?25h  Building wheel for pyfarmhash (setup.py) ... \u001b[?25l\u001b[?25hdone\n",
            "  Building wheel for crcmod (setup.py) ... \u001b[?25l\u001b[?25hdone\n",
            "  Building wheel for dill (setup.py) ... \u001b[?25l\u001b[?25hdone\n",
            "  Building wheel for google-apitools (setup.py) ... \u001b[?25l\u001b[?25hdone\n",
            "  Building wheel for hdfs (setup.py) ... \u001b[?25l\u001b[?25hdone\n",
            "  Building wheel for docopt (setup.py) ... \u001b[?25l\u001b[?25hdone\n",
            "\u001b[31mERROR: pip's dependency resolver does not currently take into account all the packages that are installed. This behaviour is the source of the following dependency conflicts.\n",
            "cudf-cu12 24.10.1 requires pandas<2.2.3dev0,>=2.0, but you have pandas 1.5.3 which is incompatible.\n",
            "cudf-cu12 24.10.1 requires pyarrow<18.0.0a0,>=14.0.0, but you have pyarrow 10.0.1 which is incompatible.\n",
            "dask 2024.10.0 requires cloudpickle>=3.0.0, but you have cloudpickle 2.2.1 which is incompatible.\n",
            "google-colab 1.0.0 requires pandas==2.2.2, but you have pandas 1.5.3 which is incompatible.\n",
            "mizani 0.13.1 requires pandas>=2.2.0, but you have pandas 1.5.3 which is incompatible.\n",
            "plotnine 0.14.5 requires pandas>=2.2.0, but you have pandas 1.5.3 which is incompatible.\n",
            "pylibcudf-cu12 24.10.1 requires pyarrow<18.0.0a0,>=14.0.0, but you have pyarrow 10.0.1 which is incompatible.\n",
            "tf-keras 2.17.0 requires tensorflow<2.18,>=2.17, but you have tensorflow 2.16.2 which is incompatible.\n",
            "xarray 2025.1.0 requires pandas>=2.1, but you have pandas 1.5.3 which is incompatible.\u001b[0m\u001b[31m\n",
            "\u001b[0m"
          ]
        }
      ],
      "source": [
        "! pip3 install --upgrade --quiet \\\n",
        "    google-cloud-bigquery \\\n",
        "    pandas \\\n",
        "    pandas_gbq \\\n",
        "    pyarrow \\\n",
        "    tensorflow_data_validation[visualization] \\\n",
        "    google-cloud-aiplatform"
      ]
    },
    {
      "cell_type": "markdown",
      "metadata": {
        "id": "02nrfqgSOsw2"
      },
      "source": [
        "Check that the version of google-cloud-aiplatform is 1.51.0 or later."
      ]
    },
    {
      "cell_type": "code",
      "execution_count": null,
      "metadata": {
        "id": "uq2kSzjTOuQp",
        "colab": {
          "base_uri": "https://localhost:8080/",
          "height": 35
        },
        "outputId": "5b04eb95-43c7-4b82-97b4-1bab15e54a92"
      },
      "outputs": [
        {
          "output_type": "execute_result",
          "data": {
            "text/plain": [
              "'1.77.0'"
            ],
            "application/vnd.google.colaboratory.intrinsic+json": {
              "type": "string"
            }
          },
          "metadata": {},
          "execution_count": 2
        }
      ],
      "source": [
        "from google.cloud import aiplatform\n",
        "\n",
        "aiplatform.__version__"
      ]
    },
    {
      "cell_type": "markdown",
      "metadata": {
        "id": "U4o9GjHNfHdI"
      },
      "source": [
        "### Restart runtime (Colab only)\n",
        "\n",
        "To use the newly installed packages, you must restart the runtime on Google Colab."
      ]
    },
    {
      "cell_type": "code",
      "execution_count": null,
      "metadata": {
        "id": "JaY8Q_T3fA38"
      },
      "outputs": [],
      "source": [
        "import sys\n",
        "\n",
        "if not \"google.colab\" in sys.modules:\n",
        "\n",
        "    import IPython\n",
        "\n",
        "    app = IPython.Application.instance()\n",
        "    app.kernel.do_shutdown(True)"
      ]
    },
    {
      "cell_type": "markdown",
      "metadata": {
        "id": "4LvVXIhRO0Vk"
      },
      "source": [
        "<div class=\"alert alert-block alert-warning\">\n",
        "<b>⚠️ The kernel is going to restart. Please wait until it is finished before continuing to the next step. ⚠️</b>\n",
        "</div>\n"
      ]
    },
    {
      "cell_type": "markdown",
      "metadata": {
        "id": "i5-StiZvO3-6"
      },
      "source": [
        "### Authenticate your notebook environment (Colab only)\n",
        "\n",
        "Authenticate your environment on Google Colab."
      ]
    },
    {
      "cell_type": "code",
      "execution_count": null,
      "metadata": {
        "id": "YIXcOK0uO5q_"
      },
      "outputs": [],
      "source": [
        "import sys\n",
        "\n",
        "if \"google.colab\" in sys.modules:\n",
        "\n",
        "    from google.colab import auth\n",
        "\n",
        "    auth.authenticate_user()"
      ]
    },
    {
      "cell_type": "markdown",
      "metadata": {
        "id": "uHVx1c-OO7KR"
      },
      "source": [
        "### Set Google Cloud project information and initialize Vertex AI SDK\n",
        "\n",
        "To get started using Vertex AI, you must have an existing Google Cloud project and [enable the Vertex AI API](https://console.cloud.google.com/flows/enableapi?apiid=aiplatform.googleapis.com). Learn more about [setting up a project and a development environment](https://cloud.google.com/vertex-ai/docs/start/cloud-environment)."
      ]
    },
    {
      "cell_type": "code",
      "execution_count": null,
      "metadata": {
        "id": "gg6xkyR7O9cU",
        "colab": {
          "base_uri": "https://localhost:8080/"
        },
        "outputId": "628f58ab-9605-4328-e437-4024e23a3371"
      },
      "outputs": [
        {
          "output_type": "stream",
          "name": "stdout",
          "text": [
            "Updated property [core/project].\n",
            "Updated property [ai/region].\n"
          ]
        }
      ],
      "source": [
        "# Make sure to replace the value of `PROJECT_ID` with your GCP project ID and `LOCATION` with the region associated with your lab.\n",
        "PROJECT_ID = \"cloud-training-demos\"  # @param {type:\"string\"}\n",
        "LOCATION = \"us-central1\"  # @param {type:\"string\"}\n",
        "\n",
        "\n",
        "import os\n",
        "\n",
        "import vertexai\n",
        "\n",
        "! gcloud config set project $PROJECT_ID\n",
        "os.environ[\"GOOGLE_CLOUD_PROJECT\"] = PROJECT_ID\n",
        "! gcloud config set ai/region $LOCATION\n",
        "\n",
        "vertexai.init(project=PROJECT_ID, location=LOCATION)"
      ]
    },
    {
      "cell_type": "markdown",
      "metadata": {
        "id": "LMRdCWwqPBpR"
      },
      "source": [
        "## Start Model Monitoring tutorial"
      ]
    },
    {
      "cell_type": "markdown",
      "metadata": {
        "id": "l_BdNCfk7Hjz"
      },
      "source": [
        "### Step 1: Create a Cloud Storage bucket\n",
        "\n",
        "Create a Cloud Storage bucket to store intermediate artifacts such as datasets."
      ]
    },
    {
      "cell_type": "code",
      "execution_count": null,
      "metadata": {
        "id": "3_CZRJ5L60Mi"
      },
      "outputs": [],
      "source": [
        "# Create a Cloud Storage bucket\n",
        "BUCKET_URI = f\"gs://your-bucket-name-{PROJECT_ID}-unique\"  # @param {type:\"string\"}"
      ]
    },
    {
      "cell_type": "markdown",
      "metadata": {
        "id": "lvHsyHsi7Dg8"
      },
      "source": [
        "**Only if your bucket doesn't already exist**: Run the following cell to create your Cloud Storage bucket."
      ]
    },
    {
      "cell_type": "code",
      "execution_count": null,
      "metadata": {
        "id": "mrHlJi-e7AyX",
        "colab": {
          "base_uri": "https://localhost:8080/"
        },
        "outputId": "db42623b-c351-4442-f4f5-e0db06719b44"
      },
      "outputs": [
        {
          "output_type": "stream",
          "name": "stdout",
          "text": [
            "Creating gs://your-bucket-name-cloud-training-demos-unique/...\n"
          ]
        }
      ],
      "source": [
        "! gsutil mb -l {LOCATION} -p {PROJECT_ID} {BUCKET_URI}"
      ]
    },
    {
      "cell_type": "markdown",
      "metadata": {
        "id": "5ZLxDjB6lYXx"
      },
      "source": [
        "### Step 2: Prepare a model in Vertex AI Model Registry"
      ]
    },
    {
      "cell_type": "markdown",
      "metadata": {
        "id": "1_OchKcp60FE"
      },
      "source": [
        "You can register a model in Vertex AI Model Registry with its artifacts, enabling you to perform online serving or batch prediction. Alternatively, you can register a referenced/placeholder model that includes only the model's name.\n",
        "In this notebook, you register a model with artifacts because you'll run a batch prediction job."
      ]
    },
    {
      "cell_type": "code",
      "execution_count": 6,
      "metadata": {
        "id": "SwrD1CnmmJsk",
        "colab": {
          "base_uri": "https://localhost:8080/"
        },
        "outputId": "a309aea8-03d8-43b3-ac6b-7dddc876a3e0"
      },
      "outputs": [
        {
          "output_type": "stream",
          "name": "stderr",
          "text": [
            "INFO:google.cloud.aiplatform.models:Creating Model\n",
            "INFO:google.cloud.aiplatform.models:Create Model backing LRO: projects/663413318684/locations/us-central1/models/6171326769753227264/operations/3177442266146930688\n",
            "INFO:google.cloud.aiplatform.models:Model created. Resource name: projects/663413318684/locations/us-central1/models/6171326769753227264@1\n",
            "INFO:google.cloud.aiplatform.models:To use this Model in another session:\n",
            "INFO:google.cloud.aiplatform.models:model = aiplatform.Model('projects/663413318684/locations/us-central1/models/6171326769753227264@1')\n"
          ]
        }
      ],
      "source": [
        "import google.cloud.aiplatform as aiplatform\n",
        "\n",
        "MODEL_PATH = \"gs://cloud-samples-data/vertex-ai/model-deployment/models/churn\"\n",
        "MODEL_NAME = \"churn\"\n",
        "IMAGE = \"us-docker.pkg.dev/cloud-aiplatform/prediction/tf2-cpu.2-5:latest\"\n",
        "\n",
        "model = aiplatform.Model.upload(\n",
        "    display_name=MODEL_NAME,\n",
        "    artifact_uri=MODEL_PATH,\n",
        "    serving_container_image_uri=IMAGE,\n",
        "    sync=True,\n",
        ")\n",
        "\n",
        "MODEL_ID = model.resource_name.split(\"/\")[-1]"
      ]
    },
    {
      "cell_type": "markdown",
      "metadata": {
        "id": "RuwAoHTilv1j"
      },
      "source": [
        "### Step 3: Create a model monitor"
      ]
    },
    {
      "cell_type": "markdown",
      "metadata": {
        "id": "Wp6jVFGvC6wt"
      },
      "source": [
        "Create a model monitor to associate monitoring details with a model version that has been register in Vertex AI Model Registry."
      ]
    },
    {
      "cell_type": "markdown",
      "metadata": {
        "id": "9hH4wSCXfgoE"
      },
      "source": [
        "#### Define Model Monitoring Schema"
      ]
    },
    {
      "cell_type": "markdown",
      "metadata": {
        "id": "jyg0cMAdfrAa"
      },
      "source": [
        "The monitoring schema is required for model monitors. It includes the names of input features, prediction outputs and, if available, ground truths, along with their respective data type.\n",
        "\n",
        "**Note: For AutoML tables (regression and classification), defining the schema is optional. The schema is automatically fetched when available. If Vertex AI cannot get the schema information, you must provide it.**"
      ]
    },
    {
      "cell_type": "code",
      "execution_count": 7,
      "metadata": {
        "id": "GR-4eTn3fkHk"
      },
      "outputs": [],
      "source": [
        "from vertexai.resources.preview import ml_monitoring\n",
        "\n",
        "MODEL_MONITORING_SCHEMA = ml_monitoring.spec.ModelMonitoringSchema(\n",
        "    feature_fields=[\n",
        "        ml_monitoring.spec.FieldSchema(name=\"user_pseudo_id\", data_type=\"string\"),\n",
        "        ml_monitoring.spec.FieldSchema(name=\"country\", data_type=\"string\"),\n",
        "        ml_monitoring.spec.FieldSchema(name=\"operating_system\", data_type=\"string\"),\n",
        "        ml_monitoring.spec.FieldSchema(name=\"cnt_user_engagement\", data_type=\"integer\"),\n",
        "        ml_monitoring.spec.FieldSchema(\n",
        "            name=\"cnt_level_start_quickplay\", data_type=\"integer\"\n",
        "        ),\n",
        "        ml_monitoring.spec.FieldSchema(\n",
        "            name=\"cnt_level_end_quickplay\", data_type=\"integer\"\n",
        "        ),\n",
        "        ml_monitoring.spec.FieldSchema(\n",
        "            name=\"cnt_level_complete_quickplay\", data_type=\"integer\"\n",
        "        ),\n",
        "        ml_monitoring.spec.FieldSchema(\n",
        "            name=\"cnt_level_reset_quickplay\", data_type=\"integer\"\n",
        "        ),\n",
        "        ml_monitoring.spec.FieldSchema(name=\"cnt_post_score\", data_type=\"integer\"),\n",
        "        ml_monitoring.spec.FieldSchema(\n",
        "            name=\"cnt_spend_virtual_currency\", data_type=\"integer\"\n",
        "        ),\n",
        "        ml_monitoring.spec.FieldSchema(name=\"cnt_ad_reward\", data_type=\"integer\"),\n",
        "        ml_monitoring.spec.FieldSchema(\n",
        "            name=\"cnt_challenge_a_friend\", data_type=\"integer\"\n",
        "        ),\n",
        "        ml_monitoring.spec.FieldSchema(\n",
        "            name=\"cnt_completed_5_levels\", data_type=\"integer\"\n",
        "        ),\n",
        "        ml_monitoring.spec.FieldSchema(name=\"cnt_use_extra_steps\", data_type=\"integer\"),\n",
        "        ml_monitoring.spec.FieldSchema(name=\"month\", data_type=\"categorical\"),\n",
        "        ml_monitoring.spec.FieldSchema(name=\"julianday\", data_type=\"integer\"),\n",
        "        ml_monitoring.spec.FieldSchema(name=\"dayofweek\", data_type=\"integer\"),\n",
        "    ],\n",
        "    ground_truth_fields=[\n",
        "        ml_monitoring.spec.FieldSchema(name=\"churned\", data_type=\"categorical\")\n",
        "    ],\n",
        "    prediction_fields=[\n",
        "        ml_monitoring.spec.FieldSchema(\n",
        "            name=\"predicted_churned\", data_type=\"categorical\"\n",
        "        )\n",
        "    ],\n",
        ")"
      ]
    },
    {
      "cell_type": "markdown",
      "metadata": {
        "id": "L8KuANNbiiEV"
      },
      "source": [
        "#### (Optional) Define training dataset"
      ]
    },
    {
      "cell_type": "markdown",
      "metadata": {
        "id": "SvFZRodti3qN"
      },
      "source": [
        "The training dataset can serve as the baseline dataset to calculate monitoring metrics. You can register the training dataset in the model monitor."
      ]
    },
    {
      "cell_type": "code",
      "execution_count": 8,
      "metadata": {
        "id": "CSqE4_roiw-q",
        "colab": {
          "base_uri": "https://localhost:8080/"
        },
        "outputId": "44b555c1-41b4-41fe-bd05-4aa73f24a861"
      },
      "outputs": [
        {
          "output_type": "stream",
          "name": "stdout",
          "text": [
            "Copying gs://cloud-samples-data/vertex-ai/model-monitoring/churn/churn_training.csv [Content-Type=text/csv]...\n",
            "/ [0 files][    0.0 B/717.9 KiB]                                                \r/ [1 files][717.9 KiB/717.9 KiB]                                                \r\n",
            "Operation completed over 1 objects/717.9 KiB.                                    \n"
          ]
        }
      ],
      "source": [
        "from vertexai.resources.preview import ml_monitoring\n",
        "\n",
        "# Copy files to your projects gs bucket to avoid permission issues.\n",
        "# Ignore any error(s) for bucket already exists.\n",
        "PUBLIC_TRAINING_DATASET = (\n",
        "    \"gs://cloud-samples-data/vertex-ai/model-monitoring/churn/churn_training.csv\"\n",
        ")\n",
        "TRAINING_URI = f\"{BUCKET_URI}/model-monitoring/churn/churn_training.csv\"\n",
        "\n",
        "! gsutil copy $PUBLIC_TRAINING_DATASET $TRAINING_URI\n",
        "\n",
        "TRAINING_DATASET = ml_monitoring.spec.MonitoringInput(\n",
        "    gcs_uri=TRAINING_URI, data_format=\"csv\"\n",
        ")"
      ]
    },
    {
      "cell_type": "markdown",
      "metadata": {
        "id": "5ZnBZUEMjtDD"
      },
      "source": [
        "#### Create a model monitor resource"
      ]
    },
    {
      "cell_type": "markdown",
      "metadata": {
        "id": "OPBdgqz6jv9_"
      },
      "source": [
        "A model monitor is a top-level resource to manage your metrics and model monitoring jobs."
      ]
    },
    {
      "cell_type": "code",
      "execution_count": 9,
      "metadata": {
        "id": "l_d917Ory595",
        "colab": {
          "base_uri": "https://localhost:8080/"
        },
        "outputId": "777de5e0-fd25-47a9-b254-9aa75c3f3efe"
      },
      "outputs": [
        {
          "output_type": "stream",
          "name": "stderr",
          "text": [
            "INFO:vertexai.resources.preview.ml_monitoring.model_monitors:Creating ModelMonitor\n",
            "INFO:vertexai.resources.preview.ml_monitoring.model_monitors:Create ModelMonitor backing LRO: projects/663413318684/locations/us-central1/modelMonitors/6846254285882130432/operations/8271013444702961664\n",
            "INFO:vertexai.resources.preview.ml_monitoring.model_monitors:ModelMonitor created. Resource name: projects/663413318684/locations/us-central1/modelMonitors/6846254285882130432\n",
            "INFO:vertexai.resources.preview.ml_monitoring.model_monitors:To use this ModelMonitor in another session:\n",
            "INFO:vertexai.resources.preview.ml_monitoring.model_monitors:model_monitor = aiplatform.ModelMonitor('projects/663413318684/locations/us-central1/modelMonitors/6846254285882130432')\n",
            "INFO:vertexai.resources.preview.ml_monitoring.model_monitors:https://console.cloud.google.com/vertex-ai/model-monitoring/locations/us-central1/model-monitors/6846254285882130432?project=cloud-training-demos\n"
          ]
        },
        {
          "output_type": "stream",
          "name": "stdout",
          "text": [
            "MODEL MONITOR 6846254285882130432 created.\n"
          ]
        }
      ],
      "source": [
        "from vertexai.resources.preview import ml_monitoring\n",
        "\n",
        "my_model_monitor = ml_monitoring.ModelMonitor.create(\n",
        "    project=PROJECT_ID,\n",
        "    location=LOCATION,\n",
        "    display_name=\"churn_model_monitor\",\n",
        "    model_name=model.resource_name,\n",
        "    model_version_id=\"1\",\n",
        "    training_dataset=TRAINING_DATASET,\n",
        "    model_monitoring_schema=MODEL_MONITORING_SCHEMA,\n",
        ")\n",
        "MODEL_MONITOR_ID = my_model_monitor.name\n",
        "print(f\"MODEL MONITOR {MODEL_MONITOR_ID} created.\")"
      ]
    },
    {
      "cell_type": "markdown",
      "metadata": {
        "id": "dkHlwQuVli_2"
      },
      "source": [
        "### Step 4: Run an on-demand model monitoring job"
      ]
    },
    {
      "cell_type": "markdown",
      "metadata": {
        "id": "GpVp3fh3rkov"
      },
      "source": [
        "#### Define the monitoring objective configs\n",
        "\n",
        "For tabular models, Model Monitoring supports the following objectives:\n",
        "\n",
        "*   **Input feature drift detection**\n",
        "\n",
        "    Model Monitoring offers drift analysis for both categorical and numeric feature types, with the following supported metrics:\n",
        "\n",
        "    *    Categorical Feature: `Jensen Shannon Divergence`, `L Infinity`\n",
        "    *    Numeric Feature: `Jensen Shannon Divergence`\n",
        "\n",
        "    You can choose to analyze only the features of interest by specifying them in the `features` fields of the `ml_monitoring.spec.DataDriftSpec` specification. If not specified, all input features in the model schema are analyzed. Additionally, you have the option to set default thresholds for categorical or numeric features, or you can specify thresholds for individual features. If the detected drift surpasses a threshold, an alert is sent through email or another notification channel.\n",
        "\n",
        "*  **Prediction output drift detection**\n",
        "\n",
        "    Similar to input feature drift detection, prediction output drift detection identifies data drift in the prediction outputs.\n",
        "\n",
        "*   **Feature attribution drift detection**\n",
        "\n",
        "    Model Monitoring leverages Vertex Explainable AI to monitor feature attributions. Explainable AI enables you to understand the relative contribution of each feature to a resulting prediction. In essence, it assesses the magnitude of each feature's influence.\n",
        "    You must configure the `Explanation` specification with the feature attribution objectives configuration.\n"
      ]
    },
    {
      "cell_type": "markdown",
      "metadata": {
        "id": "n49LgtHBfpTE"
      },
      "source": [
        "Input feature drift specification"
      ]
    },
    {
      "cell_type": "code",
      "execution_count": 10,
      "metadata": {
        "id": "CtrsEblNqzLT"
      },
      "outputs": [],
      "source": [
        "from vertexai.resources.preview import ml_monitoring\n",
        "\n",
        "FEATURE_THRESHOLDS = {\n",
        "    \"country\": 0.003,\n",
        "    \"cnt_user_engagement\": 0.004,\n",
        "}\n",
        "\n",
        "FEATURE_DRIFT_SPEC = ml_monitoring.spec.DataDriftSpec(\n",
        "    categorical_metric_type=\"l_infinity\",\n",
        "    numeric_metric_type=\"jensen_shannon_divergence\",\n",
        "    default_categorical_alert_threshold=0.2,\n",
        "    default_numeric_alert_threshold=0.3,\n",
        "    feature_alert_thresholds=FEATURE_THRESHOLDS,\n",
        ")"
      ]
    },
    {
      "cell_type": "markdown",
      "metadata": {
        "id": "DsuNTFAeftgj"
      },
      "source": [
        "Prediction output drift specification"
      ]
    },
    {
      "cell_type": "code",
      "execution_count": 11,
      "metadata": {
        "id": "tcUz6OFvfoBv"
      },
      "outputs": [],
      "source": [
        "PREDICTION_OUTPUT_DRIFT_SPEC = ml_monitoring.spec.DataDriftSpec(\n",
        "    categorical_metric_type=\"l_infinity\",\n",
        "    numeric_metric_type=\"jensen_shannon_divergence\",\n",
        "    default_categorical_alert_threshold=0.1,\n",
        "    default_numeric_alert_threshold=0.1,\n",
        ")"
      ]
    },
    {
      "cell_type": "markdown",
      "metadata": {
        "id": "ak54Y713f1aj"
      },
      "source": [
        "Feature attribution specification"
      ]
    },
    {
      "cell_type": "code",
      "execution_count": 12,
      "metadata": {
        "id": "GgIZLRJa5QY4"
      },
      "outputs": [],
      "source": [
        "FEATURE_ATTRIBUTION_SPEC = ml_monitoring.spec.FeatureAttributionSpec(\n",
        "    default_alert_threshold=0.0003,\n",
        "    feature_alert_thresholds={\"cnt_ad_reward\": 0.0001},\n",
        ")"
      ]
    },
    {
      "cell_type": "markdown",
      "metadata": {
        "id": "avV5qcCUr9IT"
      },
      "source": [
        "#### Define the alert notification and metrics output spec."
      ]
    },
    {
      "cell_type": "markdown",
      "metadata": {
        "id": "8N9YlXzOvyOs"
      },
      "source": [
        "Model Monitoring supports the following notification methods:\n",
        "\n",
        "*   Email\n",
        "*   [Notification Channel](https://cloud.google.com/monitoring/support/notification-options)\n",
        "*   [Cloud Logging](https://cloud.google.com/logging/docs)  \n",
        "\n",
        "This notebook uses email as an example."
      ]
    },
    {
      "cell_type": "markdown",
      "metadata": {
        "id": "7jzY1mpdw-CY"
      },
      "source": [
        "Export generated metrics to the Google Cloud Storage location that you specified or, if you don't specify a location, Vertex AI creates a default bucket to use."
      ]
    },
    {
      "cell_type": "code",
      "execution_count": 14,
      "metadata": {
        "id": "yclsJhNrsI-F"
      },
      "outputs": [],
      "source": [
        "import os\n",
        "\n",
        "from vertexai.resources.preview import ml_monitoring\n",
        "\n",
        "EMAIL = \"stripling@google.com\"  # @param {type:\"string\"}\n",
        "if os.getenv(\"IS_TESTING\"):\n",
        "    EMAIL = \"noreply@google.com\"\n",
        "\n",
        "NOTIFICATION_SPEC = ml_monitoring.spec.NotificationSpec(\n",
        "    user_emails=[EMAIL],\n",
        ")\n",
        "\n",
        "OUTPUT_SPEC = ml_monitoring.spec.OutputSpec(gcs_base_dir=BUCKET_URI)"
      ]
    },
    {
      "cell_type": "markdown",
      "metadata": {
        "id": "rQzbfaAFq9mV"
      },
      "source": [
        "#### Run Model Monitoring Jobs"
      ]
    },
    {
      "cell_type": "markdown",
      "metadata": {
        "id": "saA2MVZ-Yhy_"
      },
      "source": [
        "##### **Example 1: Detect feature drift by comparing a batch prediction job with the training dataset.**"
      ]
    },
    {
      "cell_type": "markdown",
      "metadata": {
        "id": "B1qxAIA5qvpR"
      },
      "source": [
        "Let's first create a batch prediction job."
      ]
    },
    {
      "cell_type": "code",
      "execution_count": 15,
      "metadata": {
        "id": "CIujU9oBqwPp",
        "colab": {
          "base_uri": "https://localhost:8080/"
        },
        "outputId": "4d9e7b9d-d8d6-44da-f178-5cd64f26d091"
      },
      "outputs": [
        {
          "output_type": "stream",
          "name": "stdout",
          "text": [
            "Copying gs://cloud-samples-data/vertex-ai/model-monitoring/churn/churn_bp_input_1.jsonl [Content-Type=application/octet-stream]...\n",
            "/ [1 files][223.9 KiB/223.9 KiB]                                                \n",
            "Operation completed over 1 objects/223.9 KiB.                                    \n"
          ]
        }
      ],
      "source": [
        "BP_INPUT_URI_1 = f\"{BUCKET_URI}/model-monitoring/churn/churn_bp_input_1.jsonl\"\n",
        "! gsutil copy gs://cloud-samples-data/vertex-ai/model-monitoring/churn/churn_bp_input_1.jsonl $BP_INPUT_URI_1"
      ]
    },
    {
      "cell_type": "code",
      "execution_count": 16,
      "metadata": {
        "id": "-ZYgqB8ZmbDo",
        "colab": {
          "base_uri": "https://localhost:8080/"
        },
        "outputId": "edc0cef9-0540-4ae1-d97a-60edc402227b"
      },
      "outputs": [
        {
          "output_type": "stream",
          "name": "stderr",
          "text": [
            "INFO:google.cloud.aiplatform.jobs:Creating BatchPredictionJob\n",
            "INFO:google.cloud.aiplatform.jobs:BatchPredictionJob created. Resource name: projects/663413318684/locations/us-central1/batchPredictionJobs/1642178306084175872\n",
            "INFO:google.cloud.aiplatform.jobs:To use this BatchPredictionJob in another session:\n",
            "INFO:google.cloud.aiplatform.jobs:bpj = aiplatform.BatchPredictionJob('projects/663413318684/locations/us-central1/batchPredictionJobs/1642178306084175872')\n",
            "INFO:google.cloud.aiplatform.jobs:View Batch Prediction Job:\n",
            "https://console.cloud.google.com/ai/platform/locations/us-central1/batch-predictions/1642178306084175872?project=663413318684\n",
            "INFO:google.cloud.aiplatform.jobs:BatchPredictionJob projects/663413318684/locations/us-central1/batchPredictionJobs/1642178306084175872 current state:\n",
            "JobState.JOB_STATE_PENDING\n",
            "INFO:google.cloud.aiplatform.jobs:BatchPredictionJob projects/663413318684/locations/us-central1/batchPredictionJobs/1642178306084175872 current state:\n",
            "JobState.JOB_STATE_PENDING\n",
            "INFO:google.cloud.aiplatform.jobs:BatchPredictionJob projects/663413318684/locations/us-central1/batchPredictionJobs/1642178306084175872 current state:\n",
            "JobState.JOB_STATE_RUNNING\n",
            "INFO:google.cloud.aiplatform.jobs:BatchPredictionJob projects/663413318684/locations/us-central1/batchPredictionJobs/1642178306084175872 current state:\n",
            "JobState.JOB_STATE_RUNNING\n",
            "INFO:google.cloud.aiplatform.jobs:BatchPredictionJob projects/663413318684/locations/us-central1/batchPredictionJobs/1642178306084175872 current state:\n",
            "JobState.JOB_STATE_RUNNING\n",
            "INFO:google.cloud.aiplatform.jobs:BatchPredictionJob projects/663413318684/locations/us-central1/batchPredictionJobs/1642178306084175872 current state:\n",
            "JobState.JOB_STATE_RUNNING\n",
            "INFO:google.cloud.aiplatform.jobs:BatchPredictionJob projects/663413318684/locations/us-central1/batchPredictionJobs/1642178306084175872 current state:\n",
            "JobState.JOB_STATE_RUNNING\n",
            "INFO:google.cloud.aiplatform.jobs:BatchPredictionJob projects/663413318684/locations/us-central1/batchPredictionJobs/1642178306084175872 current state:\n",
            "JobState.JOB_STATE_RUNNING\n",
            "INFO:google.cloud.aiplatform.jobs:BatchPredictionJob projects/663413318684/locations/us-central1/batchPredictionJobs/1642178306084175872 current state:\n",
            "JobState.JOB_STATE_SUCCEEDED\n",
            "INFO:google.cloud.aiplatform.jobs:BatchPredictionJob run completed. Resource name: projects/663413318684/locations/us-central1/batchPredictionJobs/1642178306084175872\n"
          ]
        }
      ],
      "source": [
        "batch_prediction_job_1 = model.batch_predict(\n",
        "    generate_explanation=True,\n",
        "    job_display_name=\"bp_example_1\",\n",
        "    instances_format=\"jsonl\",\n",
        "    machine_type=\"e2-standard-4\",\n",
        "    gcs_source=[BP_INPUT_URI_1],\n",
        "    gcs_destination_prefix=f\"{BUCKET_URI}/bp_output\",\n",
        "    sync=True,\n",
        ")"
      ]
    },
    {
      "cell_type": "code",
      "execution_count": 17,
      "metadata": {
        "id": "S-3ilL5-03k8",
        "colab": {
          "base_uri": "https://localhost:8080/"
        },
        "outputId": "85d46f2c-3351-4d75-e2c0-0ad6bd345d41"
      },
      "outputs": [
        {
          "output_type": "stream",
          "name": "stderr",
          "text": [
            "INFO:vertexai.resources.preview.ml_monitoring.model_monitors:Creating ModelMonitoringJob\n"
          ]
        }
      ],
      "source": [
        "import pandas as pd\n",
        "from vertexai.resources.preview import ml_monitoring\n",
        "\n",
        "TIMESTAMP = pd.Timestamp.utcnow().strftime(\"%Y%m%d%H%M%S\")\n",
        "JOB_DISPLAY_NAME = f\"churn_model_monitoring_job_{TIMESTAMP}\"\n",
        "TARGET_DATASET = ml_monitoring.spec.MonitoringInput(\n",
        "    batch_prediction_job=batch_prediction_job_1.resource_name\n",
        ")\n",
        "model_monitoring_job_1 = my_model_monitor.run(\n",
        "    display_name=JOB_DISPLAY_NAME,\n",
        "    baseline_dataset=TRAINING_DATASET,\n",
        "    target_dataset=TARGET_DATASET,\n",
        "    tabular_objective_spec=ml_monitoring.spec.TabularObjective(\n",
        "        # Input feature drift spec.\n",
        "        feature_drift_spec=FEATURE_DRIFT_SPEC\n",
        "    ),\n",
        "    notification_spec=NOTIFICATION_SPEC,\n",
        "    output_spec=OUTPUT_SPEC,\n",
        ")"
      ]
    },
    {
      "cell_type": "markdown",
      "metadata": {
        "id": "ihfK5KxgWEXz"
      },
      "source": [
        "##### **Example 2: Detect feature drift and prediction output drift by comparing a batch prediction job with a previous batch prediction job result.**"
      ]
    },
    {
      "cell_type": "markdown",
      "metadata": {
        "id": "kBhhRjuIa2iv"
      },
      "source": [
        "You can set up multiple objectives within a single model monitoring job. All metrics are computed by using the same baseline and target dataset.\n",
        "\n",
        "Create another batch prediction job and compare it with the batch prediction job created previously."
      ]
    },
    {
      "cell_type": "code",
      "execution_count": 19,
      "metadata": {
        "id": "IO2sXgSAXu5A",
        "colab": {
          "base_uri": "https://localhost:8080/"
        },
        "outputId": "96682e51-daad-4eb0-fcdc-955f9990da32"
      },
      "outputs": [
        {
          "output_type": "stream",
          "name": "stdout",
          "text": [
            "Copying gs://cloud-samples-data/vertex-ai/model-monitoring/churn/churn_bp_input_2.jsonl [Content-Type=application/octet-stream]...\n",
            "- [1 files][443.4 KiB/443.4 KiB]                                                \n",
            "Operation completed over 1 objects/443.4 KiB.                                    \n"
          ]
        }
      ],
      "source": [
        "BP_INPUT_URI_2 = f\"{BUCKET_URI}/model-monitoring/churn/churn_bp_input_2.jsonl\"\n",
        "! gsutil copy gs://cloud-samples-data/vertex-ai/model-monitoring/churn/churn_bp_input_2.jsonl $BP_INPUT_URI_2"
      ]
    },
    {
      "cell_type": "code",
      "execution_count": 20,
      "metadata": {
        "id": "d6CIK_1rWOT7",
        "colab": {
          "base_uri": "https://localhost:8080/"
        },
        "outputId": "e7f70ea4-64c0-4080-83c2-d070305bd886"
      },
      "outputs": [
        {
          "output_type": "stream",
          "name": "stderr",
          "text": [
            "INFO:google.cloud.aiplatform.jobs:Creating BatchPredictionJob\n",
            "INFO:google.cloud.aiplatform.jobs:BatchPredictionJob created. Resource name: projects/663413318684/locations/us-central1/batchPredictionJobs/7414667128466309120\n",
            "INFO:google.cloud.aiplatform.jobs:To use this BatchPredictionJob in another session:\n",
            "INFO:google.cloud.aiplatform.jobs:bpj = aiplatform.BatchPredictionJob('projects/663413318684/locations/us-central1/batchPredictionJobs/7414667128466309120')\n",
            "INFO:google.cloud.aiplatform.jobs:View Batch Prediction Job:\n",
            "https://console.cloud.google.com/ai/platform/locations/us-central1/batch-predictions/7414667128466309120?project=663413318684\n",
            "INFO:google.cloud.aiplatform.jobs:BatchPredictionJob projects/663413318684/locations/us-central1/batchPredictionJobs/7414667128466309120 current state:\n",
            "JobState.JOB_STATE_RUNNING\n",
            "INFO:google.cloud.aiplatform.jobs:BatchPredictionJob projects/663413318684/locations/us-central1/batchPredictionJobs/7414667128466309120 current state:\n",
            "JobState.JOB_STATE_RUNNING\n",
            "INFO:vertexai.resources.preview.ml_monitoring.model_monitors:ModelMonitoringJob projects/663413318684/locations/us-central1/modelMonitors/6846254285882130432/modelMonitoringJobs/8039321159042334720 current state:\n",
            "JobState.JOB_STATE_RUNNING\n",
            "INFO:google.cloud.aiplatform.jobs:BatchPredictionJob projects/663413318684/locations/us-central1/batchPredictionJobs/7414667128466309120 current state:\n",
            "JobState.JOB_STATE_RUNNING\n",
            "INFO:google.cloud.aiplatform.jobs:BatchPredictionJob projects/663413318684/locations/us-central1/batchPredictionJobs/7414667128466309120 current state:\n",
            "JobState.JOB_STATE_RUNNING\n",
            "INFO:vertexai.resources.preview.ml_monitoring.model_monitors:ModelMonitoringJob projects/663413318684/locations/us-central1/modelMonitors/6846254285882130432/modelMonitoringJobs/8039321159042334720 current state:\n",
            "JobState.JOB_STATE_RUNNING\n",
            "INFO:google.cloud.aiplatform.jobs:BatchPredictionJob projects/663413318684/locations/us-central1/batchPredictionJobs/7414667128466309120 current state:\n",
            "JobState.JOB_STATE_RUNNING\n",
            "INFO:vertexai.resources.preview.ml_monitoring.model_monitors:ModelMonitoringJob run completed. Resource name: projects/663413318684/locations/us-central1/modelMonitors/6846254285882130432/modelMonitoringJobs/8039321159042334720\n",
            "INFO:google.cloud.aiplatform.jobs:BatchPredictionJob projects/663413318684/locations/us-central1/batchPredictionJobs/7414667128466309120 current state:\n",
            "JobState.JOB_STATE_RUNNING\n",
            "INFO:google.cloud.aiplatform.jobs:BatchPredictionJob projects/663413318684/locations/us-central1/batchPredictionJobs/7414667128466309120 current state:\n",
            "JobState.JOB_STATE_RUNNING\n",
            "INFO:google.cloud.aiplatform.jobs:BatchPredictionJob projects/663413318684/locations/us-central1/batchPredictionJobs/7414667128466309120 current state:\n",
            "JobState.JOB_STATE_RUNNING\n",
            "INFO:google.cloud.aiplatform.jobs:BatchPredictionJob projects/663413318684/locations/us-central1/batchPredictionJobs/7414667128466309120 current state:\n",
            "JobState.JOB_STATE_SUCCEEDED\n",
            "INFO:google.cloud.aiplatform.jobs:BatchPredictionJob run completed. Resource name: projects/663413318684/locations/us-central1/batchPredictionJobs/7414667128466309120\n"
          ]
        }
      ],
      "source": [
        "batch_prediction_job_2 = model.batch_predict(\n",
        "    job_display_name=\"bp_example_2\",\n",
        "    instances_format=\"jsonl\",\n",
        "    machine_type=\"e2-standard-4\",\n",
        "    gcs_source=[BP_INPUT_URI_2],\n",
        "    gcs_destination_prefix=f\"{BUCKET_URI}/bp_output\",\n",
        "    sync=True,\n",
        ")"
      ]
    },
    {
      "cell_type": "code",
      "execution_count": 21,
      "metadata": {
        "id": "Knp5-4I-WKOa",
        "colab": {
          "base_uri": "https://localhost:8080/"
        },
        "outputId": "a39ec128-135b-473b-aed8-d818f313971c"
      },
      "outputs": [
        {
          "output_type": "stream",
          "name": "stderr",
          "text": [
            "INFO:vertexai.resources.preview.ml_monitoring.model_monitors:Creating ModelMonitoringJob\n"
          ]
        }
      ],
      "source": [
        "import pandas as pd\n",
        "from vertexai.resources.preview import ml_monitoring\n",
        "\n",
        "TIMESTAMP = pd.Timestamp.utcnow().strftime(\"%Y%m%d%H%M%S\")\n",
        "JOB_DISPLAY_NAME = f\"churn_model_monitoring_job_{TIMESTAMP}\"\n",
        "BASELINE_DATASET = ml_monitoring.spec.MonitoringInput(\n",
        "    batch_prediction_job=batch_prediction_job_1.resource_name\n",
        ")\n",
        "TARGET_DATASET = ml_monitoring.spec.MonitoringInput(\n",
        "    batch_prediction_job=batch_prediction_job_2.resource_name\n",
        ")\n",
        "model_monitoring_job_2 = my_model_monitor.run(\n",
        "    display_name=JOB_DISPLAY_NAME,\n",
        "    baseline_dataset=BASELINE_DATASET,\n",
        "    target_dataset=TARGET_DATASET,\n",
        "    tabular_objective_spec=ml_monitoring.spec.TabularObjective(\n",
        "        # Input feature drift spec.\n",
        "        feature_drift_spec=FEATURE_DRIFT_SPEC,\n",
        "        # Prediction output drift spec.\n",
        "        prediction_output_drift_spec=PREDICTION_OUTPUT_DRIFT_SPEC,\n",
        "    ),\n",
        "    notification_spec=NOTIFICATION_SPEC,\n",
        "    output_spec=OUTPUT_SPEC,\n",
        ")"
      ]
    },
    {
      "cell_type": "markdown",
      "metadata": {
        "id": "AprOJ3ZchX7z"
      },
      "source": [
        "##### **Example 3: Feature attribution drift detection, compares the batch prediction job with a GCS baseline dataset**"
      ]
    },
    {
      "cell_type": "markdown",
      "metadata": {
        "id": "kP7t8p8Ih2a-"
      },
      "source": [
        "For feature attribution monitoring, the dataset is sent to the Vertex AI batch explanation job in the following way:\n",
        "\n",
        "*   Google Cloud Storage -> Sent directly as input to Vertex AI batch explanation job.\n",
        "*   BigQuery table -> Sent directly as input to Vertex AI batch explanation job.\n",
        "*   BigQuery Query -> Not supported.\n",
        "*   Vertex AI batch explanation job -> Input of batch prediction job is used as input for the Vertex AI batch explanation job.\n",
        "*   Vertex AI endpoint logging -> Request logging is used as input for Vertex AI batch explanation job.\n",
        "\n",
        "Check that these datasets meet the requirements for a Vertex AI batch explanation job."
      ]
    },
    {
      "cell_type": "markdown",
      "metadata": {
        "id": "vmT9aF-YxGBS"
      },
      "source": [
        "###### Generate model metadata for Vertex Explainable AI\n",
        "You must specify the explanation specification to use a Vertex AI batch explanation job. Run the following cell to extract metadata from the exported model, which is needed for generating the explanations for a prediction request."
      ]
    },
    {
      "cell_type": "code",
      "execution_count": 29,
      "metadata": {
        "id": "oLl6q8f4xFK5"
      },
      "outputs": [],
      "source": [
        "from google.cloud.aiplatform_v1beta1.types import (ExplanationMetadata,\n",
        "                                                   ExplanationParameters,\n",
        "                                                   ExplanationSpec)\n",
        "\n",
        "EXPLANATION_SPEC = ExplanationSpec(\n",
        "    parameters=ExplanationParameters(\n",
        "        {\"sampled_shapley_attribution\": {\"path_count\": 2}}\n",
        "    ),\n",
        "    metadata=ExplanationMetadata(\n",
        "        inputs={\n",
        "            \"cnt_ad_reward\": ExplanationMetadata.InputMetadata(\n",
        "                {\n",
        "                    \"input_tensor_name\": \"cnt_ad_reward\",\n",
        "                    \"encoding\": \"IDENTITY\",\n",
        "                    \"modality\": \"numeric\",\n",
        "                }\n",
        "            ),\n",
        "            \"cnt_challenge_a_friend\": ExplanationMetadata.InputMetadata(\n",
        "                {\n",
        "                    \"input_tensor_name\": \"cnt_challenge_a_friend\",\n",
        "                    \"encoding\": \"IDENTITY\",\n",
        "                    \"modality\": \"numeric\",\n",
        "                }\n",
        "            ),\n",
        "            \"cnt_completed_5_levels\": ExplanationMetadata.InputMetadata(\n",
        "                {\n",
        "                    \"input_tensor_name\": \"cnt_completed_5_levels\",\n",
        "                    \"encoding\": \"IDENTITY\",\n",
        "                    \"modality\": \"numeric\",\n",
        "                }\n",
        "            ),\n",
        "            \"cnt_level_complete_quickplay\": ExplanationMetadata.InputMetadata(\n",
        "                {\n",
        "                    \"input_tensor_name\": \"cnt_level_complete_quickplay\",\n",
        "                    \"encoding\": \"IDENTITY\",\n",
        "                    \"modality\": \"numeric\",\n",
        "                }\n",
        "            ),\n",
        "            \"cnt_level_end_quickplay\": ExplanationMetadata.InputMetadata(\n",
        "                {\n",
        "                    \"input_tensor_name\": \"cnt_level_end_quickplay\",\n",
        "                    \"encoding\": \"IDENTITY\",\n",
        "                    \"modality\": \"numeric\",\n",
        "                }\n",
        "            ),\n",
        "            \"cnt_level_reset_quickplay\": ExplanationMetadata.InputMetadata(\n",
        "                {\n",
        "                    \"input_tensor_name\": \"cnt_level_reset_quickplay\",\n",
        "                    \"encoding\": \"IDENTITY\",\n",
        "                    \"modality\": \"numeric\",\n",
        "                }\n",
        "            ),\n",
        "            \"cnt_level_start_quickplay\": ExplanationMetadata.InputMetadata(\n",
        "                {\n",
        "                    \"input_tensor_name\": \"cnt_level_start_quickplay\",\n",
        "                    \"encoding\": \"IDENTITY\",\n",
        "                    \"modality\": \"numeric\",\n",
        "                }\n",
        "            ),\n",
        "            \"cnt_post_score\": ExplanationMetadata.InputMetadata(\n",
        "                {\n",
        "                    \"input_tensor_name\": \"cnt_post_score\",\n",
        "                    \"encoding\": \"IDENTITY\",\n",
        "                    \"modality\": \"numeric\",\n",
        "                }\n",
        "            ),\n",
        "            \"cnt_spend_virtual_currency\": ExplanationMetadata.InputMetadata(\n",
        "                {\n",
        "                    \"input_tensor_name\": \"cnt_spend_virtual_currency\",\n",
        "                    \"encoding\": \"IDENTITY\",\n",
        "                    \"modality\": \"numeric\",\n",
        "                }\n",
        "            ),\n",
        "            \"cnt_use_extra_steps\": ExplanationMetadata.InputMetadata(\n",
        "                {\n",
        "                    \"input_tensor_name\": \"cnt_use_extra_steps\",\n",
        "                    \"encoding\": \"IDENTITY\",\n",
        "                    \"modality\": \"numeric\",\n",
        "                }\n",
        "            ),\n",
        "            \"cnt_user_engagement\": ExplanationMetadata.InputMetadata(\n",
        "                {\n",
        "                    \"input_tensor_name\": \"cnt_user_engagement\",\n",
        "                    \"encoding\": \"IDENTITY\",\n",
        "                    \"modality\": \"numeric\",\n",
        "                }\n",
        "            ),\n",
        "            \"country\": ExplanationMetadata.InputMetadata(\n",
        "                {\n",
        "                    \"input_tensor_name\": \"country\",\n",
        "                    \"encoding\": \"IDENTITY\",\n",
        "                    \"modality\": \"categorical\",\n",
        "                }\n",
        "            ),\n",
        "            \"dayofweek\": ExplanationMetadata.InputMetadata(\n",
        "                {\n",
        "                    \"input_tensor_name\": \"dayofweek\",\n",
        "                    \"encoding\": \"IDENTITY\",\n",
        "                    \"modality\": \"numeric\",\n",
        "                }\n",
        "            ),\n",
        "            \"julianday\": ExplanationMetadata.InputMetadata(\n",
        "                {\n",
        "                    \"input_tensor_name\": \"julianday\",\n",
        "                    \"encoding\": \"IDENTITY\",\n",
        "                    \"modality\": \"numeric\",\n",
        "                }\n",
        "            ),\n",
        "            \"language\": ExplanationMetadata.InputMetadata(\n",
        "                {\n",
        "                    \"input_tensor_name\": \"language\",\n",
        "                    \"encoding\": \"IDENTITY\",\n",
        "                    \"modality\": \"categorical\",\n",
        "                }\n",
        "            ),\n",
        "            \"month\": ExplanationMetadata.InputMetadata(\n",
        "                {\n",
        "                    \"input_tensor_name\": \"month\",\n",
        "                    \"encoding\": \"IDENTITY\",\n",
        "                    \"modality\": \"numeric\",\n",
        "                }\n",
        "            ),\n",
        "            \"operating_system\": ExplanationMetadata.InputMetadata(\n",
        "                {\n",
        "                    \"input_tensor_name\": \"operating_system\",\n",
        "                    \"encoding\": \"IDENTITY\",\n",
        "                    \"modality\": \"categorical\",\n",
        "                }\n",
        "            ),\n",
        "            \"user_pseudo_id\": ExplanationMetadata.InputMetadata(\n",
        "                {\n",
        "                    \"input_tensor_name\": \"user_pseudo_id\",\n",
        "                    \"encoding\": \"IDENTITY\",\n",
        "                    \"modality\": \"categorical\",\n",
        "                }\n",
        "            ),\n",
        "        },\n",
        "        outputs={\n",
        "            \"churned_probs\": ExplanationMetadata.OutputMetadata(\n",
        "                {\"output_tensor_name\": \"churned_probs\"}\n",
        "            )\n",
        "        },\n",
        "    ),\n",
        ")"
      ]
    },
    {
      "cell_type": "code",
      "execution_count": 30,
      "metadata": {
        "id": "hexssbF7wC6A",
        "colab": {
          "base_uri": "https://localhost:8080/"
        },
        "outputId": "aed7dafb-4dac-41e6-9c01-7457689b3887"
      },
      "outputs": [
        {
          "output_type": "stream",
          "name": "stdout",
          "text": [
            "Copying gs://cloud-samples-data/vertex-ai/model-monitoring/churn/churn_no_ground_truth.jsonl [Content-Type=application/octet-stream]...\n",
            "/ [1 files][  3.5 MiB/  3.5 MiB]                                                \n",
            "Operation completed over 1 objects/3.5 MiB.                                      \n"
          ]
        }
      ],
      "source": [
        "FEATURE_ATTRIBUTION_BASELINE_DATASET = (\n",
        "    f\"{BUCKET_URI}/model-monitoring/churn/churn_no_ground_truth.jsonl\"\n",
        ")\n",
        "! gsutil cp gs://cloud-samples-data/vertex-ai/model-monitoring/churn/churn_no_ground_truth.jsonl $FEATURE_ATTRIBUTION_BASELINE_DATASET"
      ]
    },
    {
      "cell_type": "code",
      "execution_count": 31,
      "metadata": {
        "id": "2SJU52cymulD",
        "colab": {
          "base_uri": "https://localhost:8080/"
        },
        "outputId": "6400ffb4-67e4-4d34-9c19-bd432af897ae"
      },
      "outputs": [
        {
          "output_type": "stream",
          "name": "stderr",
          "text": [
            "INFO:vertexai.resources.preview.ml_monitoring.model_monitors:Creating ModelMonitoringJob\n"
          ]
        }
      ],
      "source": [
        "import pandas as pd\n",
        "from vertexai.resources.preview import ml_monitoring\n",
        "\n",
        "TIMESTAMP = pd.Timestamp.utcnow().strftime(\"%Y%m%d%H%M%S\")\n",
        "JOB_DISPLAY_NAME = f\"churn_model_monitoring_job_{TIMESTAMP}\"\n",
        "BASELINE_DATASET = ml_monitoring.spec.MonitoringInput(\n",
        "    gcs_uri=FEATURE_ATTRIBUTION_BASELINE_DATASET, data_format=\"jsonl\"\n",
        ")\n",
        "TARGET_DATASET = ml_monitoring.spec.MonitoringInput(\n",
        "    batch_prediction_job=batch_prediction_job_2.resource_name\n",
        ")\n",
        "model_monitoring_job_3 = my_model_monitor.run(\n",
        "    display_name=JOB_DISPLAY_NAME,\n",
        "    baseline_dataset=BASELINE_DATASET,\n",
        "    target_dataset=TARGET_DATASET,\n",
        "    tabular_objective_spec=ml_monitoring.spec.TabularObjective(\n",
        "        # Feature attribution spec.\n",
        "        feature_attribution_spec=FEATURE_ATTRIBUTION_SPEC\n",
        "    ),\n",
        "    # You must have a Explanation spec for feature attribution monitoring.\n",
        "    # You can specify the explanation spec in the Model, Model monitor, or the Model monitoring job.\n",
        "    explanation_spec=EXPLANATION_SPEC,\n",
        "    notification_spec=NOTIFICATION_SPEC,\n",
        "    output_spec=OUTPUT_SPEC,\n",
        ")"
      ]
    },
    {
      "cell_type": "markdown",
      "metadata": {
        "id": "pzYcMoKTP0rG"
      },
      "source": [
        "##### List Model Monitoring Jobs"
      ]
    },
    {
      "cell_type": "code",
      "execution_count": 32,
      "metadata": {
        "id": "urFYUjaZ7iCP",
        "colab": {
          "base_uri": "https://localhost:8080/"
        },
        "outputId": "e2681479-479b-43f4-f176-4cdb04c02620"
      },
      "outputs": [
        {
          "output_type": "execute_result",
          "data": {
            "text/plain": [
              "[name: \"projects/663413318684/locations/us-central1/modelMonitors/6846254285882130432/modelMonitoringJobs/6028463925421408256\"\n",
              "display_name: \"churn_model_monitoring_job_20250118005402\"\n",
              "model_monitoring_spec {\n",
              "  objective_spec {\n",
              "    tabular_objective {\n",
              "      feature_attribution_spec {\n",
              "        default_alert_condition {\n",
              "          threshold: 0.0003\n",
              "        }\n",
              "        feature_alert_conditions {\n",
              "          key: \"cnt_ad_reward\"\n",
              "          value {\n",
              "            threshold: 0.0001\n",
              "          }\n",
              "        }\n",
              "      }\n",
              "    }\n",
              "    explanation_spec {\n",
              "      parameters {\n",
              "        sampled_shapley_attribution {\n",
              "          path_count: 2\n",
              "        }\n",
              "      }\n",
              "      metadata {\n",
              "        inputs {\n",
              "          key: \"cnt_ad_reward\"\n",
              "          value {\n",
              "            input_tensor_name: \"cnt_ad_reward\"\n",
              "            encoding: IDENTITY\n",
              "            modality: \"numeric\"\n",
              "          }\n",
              "        }\n",
              "        inputs {\n",
              "          key: \"cnt_challenge_a_friend\"\n",
              "          value {\n",
              "            input_tensor_name: \"cnt_challenge_a_friend\"\n",
              "            encoding: IDENTITY\n",
              "            modality: \"numeric\"\n",
              "          }\n",
              "        }\n",
              "        inputs {\n",
              "          key: \"cnt_completed_5_levels\"\n",
              "          value {\n",
              "            input_tensor_name: \"cnt_completed_5_levels\"\n",
              "            encoding: IDENTITY\n",
              "            modality: \"numeric\"\n",
              "          }\n",
              "        }\n",
              "        inputs {\n",
              "          key: \"cnt_level_complete_quickplay\"\n",
              "          value {\n",
              "            input_tensor_name: \"cnt_level_complete_quickplay\"\n",
              "            encoding: IDENTITY\n",
              "            modality: \"numeric\"\n",
              "          }\n",
              "        }\n",
              "        inputs {\n",
              "          key: \"cnt_level_end_quickplay\"\n",
              "          value {\n",
              "            input_tensor_name: \"cnt_level_end_quickplay\"\n",
              "            encoding: IDENTITY\n",
              "            modality: \"numeric\"\n",
              "          }\n",
              "        }\n",
              "        inputs {\n",
              "          key: \"cnt_level_reset_quickplay\"\n",
              "          value {\n",
              "            input_tensor_name: \"cnt_level_reset_quickplay\"\n",
              "            encoding: IDENTITY\n",
              "            modality: \"numeric\"\n",
              "          }\n",
              "        }\n",
              "        inputs {\n",
              "          key: \"cnt_level_start_quickplay\"\n",
              "          value {\n",
              "            input_tensor_name: \"cnt_level_start_quickplay\"\n",
              "            encoding: IDENTITY\n",
              "            modality: \"numeric\"\n",
              "          }\n",
              "        }\n",
              "        inputs {\n",
              "          key: \"cnt_post_score\"\n",
              "          value {\n",
              "            input_tensor_name: \"cnt_post_score\"\n",
              "            encoding: IDENTITY\n",
              "            modality: \"numeric\"\n",
              "          }\n",
              "        }\n",
              "        inputs {\n",
              "          key: \"cnt_spend_virtual_currency\"\n",
              "          value {\n",
              "            input_tensor_name: \"cnt_spend_virtual_currency\"\n",
              "            encoding: IDENTITY\n",
              "            modality: \"numeric\"\n",
              "          }\n",
              "        }\n",
              "        inputs {\n",
              "          key: \"cnt_use_extra_steps\"\n",
              "          value {\n",
              "            input_tensor_name: \"cnt_use_extra_steps\"\n",
              "            encoding: IDENTITY\n",
              "            modality: \"numeric\"\n",
              "          }\n",
              "        }\n",
              "        inputs {\n",
              "          key: \"cnt_user_engagement\"\n",
              "          value {\n",
              "            input_tensor_name: \"cnt_user_engagement\"\n",
              "            encoding: IDENTITY\n",
              "            modality: \"numeric\"\n",
              "          }\n",
              "        }\n",
              "        inputs {\n",
              "          key: \"country\"\n",
              "          value {\n",
              "            input_tensor_name: \"country\"\n",
              "            encoding: IDENTITY\n",
              "            modality: \"categorical\"\n",
              "          }\n",
              "        }\n",
              "        inputs {\n",
              "          key: \"dayofweek\"\n",
              "          value {\n",
              "            input_tensor_name: \"dayofweek\"\n",
              "            encoding: IDENTITY\n",
              "            modality: \"numeric\"\n",
              "          }\n",
              "        }\n",
              "        inputs {\n",
              "          key: \"julianday\"\n",
              "          value {\n",
              "            input_tensor_name: \"julianday\"\n",
              "            encoding: IDENTITY\n",
              "            modality: \"numeric\"\n",
              "          }\n",
              "        }\n",
              "        inputs {\n",
              "          key: \"language\"\n",
              "          value {\n",
              "            input_tensor_name: \"language\"\n",
              "            encoding: IDENTITY\n",
              "            modality: \"categorical\"\n",
              "          }\n",
              "        }\n",
              "        inputs {\n",
              "          key: \"month\"\n",
              "          value {\n",
              "            input_tensor_name: \"month\"\n",
              "            encoding: IDENTITY\n",
              "            modality: \"numeric\"\n",
              "          }\n",
              "        }\n",
              "        inputs {\n",
              "          key: \"operating_system\"\n",
              "          value {\n",
              "            input_tensor_name: \"operating_system\"\n",
              "            encoding: IDENTITY\n",
              "            modality: \"categorical\"\n",
              "          }\n",
              "        }\n",
              "        inputs {\n",
              "          key: \"user_pseudo_id\"\n",
              "          value {\n",
              "            input_tensor_name: \"user_pseudo_id\"\n",
              "            encoding: IDENTITY\n",
              "            modality: \"categorical\"\n",
              "          }\n",
              "        }\n",
              "        outputs {\n",
              "          key: \"churned_probs\"\n",
              "          value {\n",
              "            output_tensor_name: \"churned_probs\"\n",
              "          }\n",
              "        }\n",
              "      }\n",
              "    }\n",
              "    baseline_dataset {\n",
              "      columnized_dataset {\n",
              "        gcs_source {\n",
              "          gcs_uri: \"gs://your-bucket-name-cloud-training-demos-unique/model-monitoring/churn/churn_no_ground_truth.jsonl\"\n",
              "          format_: JSONL\n",
              "        }\n",
              "      }\n",
              "    }\n",
              "    target_dataset {\n",
              "      batch_prediction_output {\n",
              "        batch_prediction_job: \"projects/663413318684/locations/us-central1/batchPredictionJobs/7414667128466309120\"\n",
              "      }\n",
              "    }\n",
              "  }\n",
              "  notification_spec {\n",
              "    email_config {\n",
              "      user_emails: \"stripling@google.com\"\n",
              "    }\n",
              "  }\n",
              "  output_spec {\n",
              "    gcs_base_directory {\n",
              "      output_uri_prefix: \"gs://your-bucket-name-cloud-training-demos-unique/model_monitoring/6846254285882130432\"\n",
              "    }\n",
              "  }\n",
              "}\n",
              "create_time {\n",
              "  seconds: 1737161642\n",
              "  nanos: 774571000\n",
              "}\n",
              "update_time {\n",
              "  seconds: 1737161642\n",
              "  nanos: 774571000\n",
              "}\n",
              "state: JOB_STATE_RUNNING\n",
              ", name: \"projects/663413318684/locations/us-central1/modelMonitors/6846254285882130432/modelMonitoringJobs/543079579284144128\"\n",
              "display_name: \"churn_model_monitoring_job_20250118004828\"\n",
              "model_monitoring_spec {\n",
              "  objective_spec {\n",
              "    tabular_objective {\n",
              "      feature_drift_spec {\n",
              "        categorical_metric_type: \"l_infinity\"\n",
              "        numeric_metric_type: \"jensen_shannon_divergence\"\n",
              "        default_categorical_alert_condition {\n",
              "          threshold: 0.2\n",
              "        }\n",
              "        default_numeric_alert_condition {\n",
              "          threshold: 0.3\n",
              "        }\n",
              "        feature_alert_conditions {\n",
              "          key: \"cnt_user_engagement\"\n",
              "          value {\n",
              "            threshold: 0.004\n",
              "          }\n",
              "        }\n",
              "        feature_alert_conditions {\n",
              "          key: \"country\"\n",
              "          value {\n",
              "            threshold: 0.003\n",
              "          }\n",
              "        }\n",
              "      }\n",
              "      prediction_output_drift_spec {\n",
              "        categorical_metric_type: \"l_infinity\"\n",
              "        numeric_metric_type: \"jensen_shannon_divergence\"\n",
              "        default_categorical_alert_condition {\n",
              "          threshold: 0.1\n",
              "        }\n",
              "        default_numeric_alert_condition {\n",
              "          threshold: 0.1\n",
              "        }\n",
              "      }\n",
              "    }\n",
              "    baseline_dataset {\n",
              "      batch_prediction_output {\n",
              "        batch_prediction_job: \"projects/663413318684/locations/us-central1/batchPredictionJobs/1642178306084175872\"\n",
              "      }\n",
              "    }\n",
              "    target_dataset {\n",
              "      batch_prediction_output {\n",
              "        batch_prediction_job: \"projects/663413318684/locations/us-central1/batchPredictionJobs/7414667128466309120\"\n",
              "      }\n",
              "    }\n",
              "  }\n",
              "  notification_spec {\n",
              "    email_config {\n",
              "      user_emails: \"stripling@google.com\"\n",
              "    }\n",
              "  }\n",
              "  output_spec {\n",
              "    gcs_base_directory {\n",
              "      output_uri_prefix: \"gs://your-bucket-name-cloud-training-demos-unique/model_monitoring/6846254285882130432\"\n",
              "    }\n",
              "  }\n",
              "}\n",
              "create_time {\n",
              "  seconds: 1737161308\n",
              "  nanos: 513265000\n",
              "}\n",
              "update_time {\n",
              "  seconds: 1737161566\n",
              "  nanos: 58558000\n",
              "}\n",
              "state: JOB_STATE_SUCCEEDED\n",
              "job_execution_detail {\n",
              "  objective_status {\n",
              "    key: \"PREDICTION_OUTPUT_DRIFT\"\n",
              "    value {\n",
              "    }\n",
              "  }\n",
              "  objective_status {\n",
              "    key: \"RAW_FEATURE_DRIFT\"\n",
              "    value {\n",
              "    }\n",
              "  }\n",
              "}\n",
              ", name: \"projects/663413318684/locations/us-central1/modelMonitors/6846254285882130432/modelMonitoringJobs/8039321159042334720\"\n",
              "display_name: \"churn_model_monitoring_job_20250118002750\"\n",
              "model_monitoring_spec {\n",
              "  objective_spec {\n",
              "    tabular_objective {\n",
              "      feature_drift_spec {\n",
              "        categorical_metric_type: \"l_infinity\"\n",
              "        numeric_metric_type: \"jensen_shannon_divergence\"\n",
              "        default_categorical_alert_condition {\n",
              "          threshold: 0.2\n",
              "        }\n",
              "        default_numeric_alert_condition {\n",
              "          threshold: 0.3\n",
              "        }\n",
              "        feature_alert_conditions {\n",
              "          key: \"cnt_user_engagement\"\n",
              "          value {\n",
              "            threshold: 0.004\n",
              "          }\n",
              "        }\n",
              "        feature_alert_conditions {\n",
              "          key: \"country\"\n",
              "          value {\n",
              "            threshold: 0.003\n",
              "          }\n",
              "        }\n",
              "      }\n",
              "    }\n",
              "    baseline_dataset {\n",
              "      columnized_dataset {\n",
              "        gcs_source {\n",
              "          gcs_uri: \"gs://your-bucket-name-cloud-training-demos-unique/model-monitoring/churn/churn_training.csv\"\n",
              "          format_: CSV\n",
              "        }\n",
              "      }\n",
              "    }\n",
              "    target_dataset {\n",
              "      batch_prediction_output {\n",
              "        batch_prediction_job: \"projects/663413318684/locations/us-central1/batchPredictionJobs/1642178306084175872\"\n",
              "      }\n",
              "    }\n",
              "  }\n",
              "  notification_spec {\n",
              "    email_config {\n",
              "      user_emails: \"stripling@google.com\"\n",
              "    }\n",
              "  }\n",
              "  output_spec {\n",
              "    gcs_base_directory {\n",
              "      output_uri_prefix: \"gs://your-bucket-name-cloud-training-demos-unique/model_monitoring/6846254285882130432\"\n",
              "    }\n",
              "  }\n",
              "}\n",
              "create_time {\n",
              "  seconds: 1737160071\n",
              "  nanos: 96853000\n",
              "}\n",
              "update_time {\n",
              "  seconds: 1737160278\n",
              "  nanos: 302483000\n",
              "}\n",
              "state: JOB_STATE_SUCCEEDED\n",
              "job_execution_detail {\n",
              "  objective_status {\n",
              "    key: \"RAW_FEATURE_DRIFT\"\n",
              "    value {\n",
              "    }\n",
              "  }\n",
              "}\n",
              "]"
            ]
          },
          "metadata": {},
          "execution_count": 32
        }
      ],
      "source": [
        "my_model_monitor.list_jobs()"
      ]
    },
    {
      "cell_type": "markdown",
      "metadata": {
        "id": "nL10YABxl47v"
      },
      "source": [
        "### Step 5: Wait for the Model Monitoring Job to run and verify the result"
      ]
    },
    {
      "cell_type": "markdown",
      "metadata": {
        "id": "LrSU6d0xFfzv"
      },
      "source": [
        "#### Verify results through email"
      ]
    },
    {
      "cell_type": "markdown",
      "metadata": {
        "id": "zw5KodgebDVE"
      },
      "source": [
        "After the model monitoring job begins running, which starts after the batch prediction jobs have finished, you receive an email like the following one:\n",
        "\n",
        "<img src=\"https://services.google.com/fh/files/misc/create_job_email.png\" />"
      ]
    },
    {
      "cell_type": "markdown",
      "metadata": {
        "id": "37SPm_majLVj"
      },
      "source": [
        "After the monitoring job is complete, if any anomalies are detected, you receive an email similar to the following one:\n",
        "\n",
        "<img src=\"https://services.google.com/fh/files/misc/job_anomalies_email.png\" />"
      ]
    },
    {
      "cell_type": "markdown",
      "metadata": {
        "id": "LPC6ZoerifM6"
      },
      "source": [
        "#### Check monitoring metrics: Google Cloud Console"
      ]
    },
    {
      "cell_type": "markdown",
      "metadata": {
        "id": "4Pw6Z-bVbZaE"
      },
      "source": [
        "To view Model Monitoring metrics in the [Google Cloud Console](https://console.cloud.google.com/vertex-ai/model-monitoring/model-monitors), go to the **Monitoring** tab under **Vertex AI.**\n",
        "\n",
        "<img src=\"https://storage.googleapis.com/cmm-public-data/images/bp_details.gif\" />"
      ]
    },
    {
      "cell_type": "markdown",
      "metadata": {
        "id": "MFZcBnwsdSfa"
      },
      "source": [
        "#### Check monitoring metrics: Cloud Storage bucket\n",
        "\n",
        "Run the following to view Model Monitoring metrics stored in the Cloud Storage bucket.  "
      ]
    },
    {
      "cell_type": "code",
      "execution_count": null,
      "metadata": {
        "id": "NhY20BTjjkVk"
      },
      "outputs": [],
      "source": [
        "try:\n",
        "    my_model_monitor.show_feature_drift_stats(model_monitoring_job_1.name)\n",
        "except Exception as e:\n",
        "    print(e)"
      ]
    },
    {
      "cell_type": "code",
      "execution_count": null,
      "metadata": {
        "id": "qtjLw8rVcC13"
      },
      "outputs": [],
      "source": [
        "try:\n",
        "    my_model_monitor.show_feature_drift_stats(model_monitoring_job_2.name)\n",
        "except Exception as e:\n",
        "    print(e)"
      ]
    },
    {
      "cell_type": "code",
      "execution_count": null,
      "metadata": {
        "id": "-mxYA55nz6tO"
      },
      "outputs": [],
      "source": [
        "try:\n",
        "    my_model_monitor.show_output_drift_stats(model_monitoring_job_2.name)\n",
        "except Exception as e:\n",
        "    print(e)"
      ]
    },
    {
      "cell_type": "markdown",
      "metadata": {
        "id": "hovSbsmBmEKZ"
      },
      "source": [
        "### Step 6: Clean Up\n",
        "\n",
        "If you no longer need your model monitoring resources, run the following to delete them:"
      ]
    },
    {
      "cell_type": "code",
      "execution_count": null,
      "metadata": {
        "id": "ejHg5PqiJPS2"
      },
      "outputs": [],
      "source": [
        "# Delete the model monitor\n",
        "my_model_monitor.delete(force=True)\n",
        "\n",
        "# Delete the model\n",
        "model.delete()"
      ]
    }
  ],
  "metadata": {
    "colab": {
      "name": "model_monitoring_for_custom_model_batch_prediction_job.ipynb",
      "provenance": []
    },
    "kernelspec": {
      "display_name": "Python 3",
      "name": "python3"
    }
  },
  "nbformat": 4,
  "nbformat_minor": 0
}
